{
 "cells": [
  {
   "cell_type": "markdown",
   "metadata": {},
   "source": [
    "# I am going to review the dataset of World Bank, in which I would compare the Statistics between India and China.\n",
    "# Stats like population, GDP, GNI, Unemeployment\n",
    "## I have used Pandas library too, since it's easy to work with\n",
    "### Importing Libraries in the first step\n",
    "##### The dataset  has 265 rows and 61 columns the dataset and it's impression has been defined before every new method.\n",
    "##### The dataset belongs to World Bank, hence there wasn't any cleaning required."
   ]
  },
  {
   "cell_type": "code",
   "execution_count": 1,
   "metadata": {},
   "outputs": [],
   "source": [
    "import matplotlib.pyplot as plt\n",
    "import csv\n",
    "import pandas as pd"
   ]
  },
  {
   "cell_type": "markdown",
   "metadata": {},
   "source": [
    "# Using pandas library to assign variable names "
   ]
  },
  {
   "cell_type": "code",
   "execution_count": 3,
   "metadata": {},
   "outputs": [],
   "source": [
    "population = pd.read_csv('/Users/mohdz/OneDrive/Desktop/Files/Major Project/country_population.csv') #(LINK: http://api.worldbank.org/v2/en/indicator/SP.POP.TOTL?downloadformat=csv)\n",
    "fertility_rate = pd.read_csv('/Users/mohdz/OneDrive/Desktop/Files/Major Project/fertility_rate.csv') #(LINK: http://api.worldbank.org/v2/en/indicator/SP.DYN.TFRT.IN?downloadformat=csv)\n",
    "expectancy = pd.read_csv('/Users/mohdz/OneDrive/Desktop/Files/Major Project/life_expectancy.csv') #(LINK: http://api.worldbank.org/v2/en/indicator/SP.DYN.LE00.MA.IN?downloadformat=csv)\n",
    "currentgdp = pd.read_csv('/Users/mohdz/OneDrive/Desktop/Files/Major Project/GDP/Current_GDP.csv') #(LINK: http://api.worldbank.org/v2/en/indicator/NY.GDP.MKTP.CD?downloadformat=csv)\n",
    "gdpgrowth = pd.read_csv('/Users/mohdz/OneDrive/Desktop/Files/Major Project/GDP/GDP_growth.csv') #(LINK: http://api.worldbank.org/v2/en/indicator/NY.GDP.MKTP.KD.ZG?downloadformat=csv)\n",
    "gnipercapita = pd.read_csv('/Users/mohdz/OneDrive/Desktop/Files/Major Project/GDP/GNI_per_capita.csv') #(LINK: http://api.worldbank.org/v2/en/indicator/NY.GNP.PCAP.CD?downloadformat=csv)\n",
    "uem = pd.read_csv('/Users/mohdz/OneDrive/Desktop/Files/Major Project/GDP/UEM.csv') #(LINK: http://api.worldbank.org/v2/en/indicator/SL.UEM.TOTL.ZS?downloadformat=csv)"
   ]
  },
  {
   "cell_type": "markdown",
   "metadata": {},
   "source": [
    "# This is how the dataset looks like\n",
    "###### The unemployment data for India had very disputed figures so I tried to get the best dataset"
   ]
  },
  {
   "cell_type": "code",
   "execution_count": 3,
   "metadata": {},
   "outputs": [
    {
     "data": {
      "text/html": [
       "<div>\n",
       "<style scoped>\n",
       "    .dataframe tbody tr th:only-of-type {\n",
       "        vertical-align: middle;\n",
       "    }\n",
       "\n",
       "    .dataframe tbody tr th {\n",
       "        vertical-align: top;\n",
       "    }\n",
       "\n",
       "    .dataframe thead th {\n",
       "        text-align: right;\n",
       "    }\n",
       "</style>\n",
       "<table border=\"1\" class=\"dataframe\">\n",
       "  <thead>\n",
       "    <tr style=\"text-align: right;\">\n",
       "      <th></th>\n",
       "      <th>Country Name</th>\n",
       "      <th>Country Code</th>\n",
       "      <th>Indicator Name</th>\n",
       "      <th>Indicator Code</th>\n",
       "      <th>1960</th>\n",
       "      <th>1961</th>\n",
       "      <th>1962</th>\n",
       "      <th>1963</th>\n",
       "      <th>1964</th>\n",
       "      <th>1965</th>\n",
       "      <th>...</th>\n",
       "      <th>2007</th>\n",
       "      <th>2008</th>\n",
       "      <th>2009</th>\n",
       "      <th>2010</th>\n",
       "      <th>2011</th>\n",
       "      <th>2012</th>\n",
       "      <th>2013</th>\n",
       "      <th>2014</th>\n",
       "      <th>2015</th>\n",
       "      <th>2016</th>\n",
       "    </tr>\n",
       "  </thead>\n",
       "  <tbody>\n",
       "    <tr>\n",
       "      <th>0</th>\n",
       "      <td>Aruba</td>\n",
       "      <td>ABW</td>\n",
       "      <td>Population, total</td>\n",
       "      <td>SP.POP.TOTL</td>\n",
       "      <td>54211.0</td>\n",
       "      <td>55438.0</td>\n",
       "      <td>56225.0</td>\n",
       "      <td>56695.0</td>\n",
       "      <td>57032.0</td>\n",
       "      <td>57360.0</td>\n",
       "      <td>...</td>\n",
       "      <td>101220.0</td>\n",
       "      <td>101353.0</td>\n",
       "      <td>101453.0</td>\n",
       "      <td>101669.0</td>\n",
       "      <td>102053.0</td>\n",
       "      <td>102577.0</td>\n",
       "      <td>103187.0</td>\n",
       "      <td>103795.0</td>\n",
       "      <td>104341.0</td>\n",
       "      <td>104822.0</td>\n",
       "    </tr>\n",
       "    <tr>\n",
       "      <th>1</th>\n",
       "      <td>Afghanistan</td>\n",
       "      <td>AFG</td>\n",
       "      <td>Population, total</td>\n",
       "      <td>SP.POP.TOTL</td>\n",
       "      <td>8996351.0</td>\n",
       "      <td>9166764.0</td>\n",
       "      <td>9345868.0</td>\n",
       "      <td>9533954.0</td>\n",
       "      <td>9731361.0</td>\n",
       "      <td>9938414.0</td>\n",
       "      <td>...</td>\n",
       "      <td>26616792.0</td>\n",
       "      <td>27294031.0</td>\n",
       "      <td>28004331.0</td>\n",
       "      <td>28803167.0</td>\n",
       "      <td>29708599.0</td>\n",
       "      <td>30696958.0</td>\n",
       "      <td>31731688.0</td>\n",
       "      <td>32758020.0</td>\n",
       "      <td>33736494.0</td>\n",
       "      <td>34656032.0</td>\n",
       "    </tr>\n",
       "    <tr>\n",
       "      <th>2</th>\n",
       "      <td>Angola</td>\n",
       "      <td>AGO</td>\n",
       "      <td>Population, total</td>\n",
       "      <td>SP.POP.TOTL</td>\n",
       "      <td>5643182.0</td>\n",
       "      <td>5753024.0</td>\n",
       "      <td>5866061.0</td>\n",
       "      <td>5980417.0</td>\n",
       "      <td>6093321.0</td>\n",
       "      <td>6203299.0</td>\n",
       "      <td>...</td>\n",
       "      <td>20997687.0</td>\n",
       "      <td>21759420.0</td>\n",
       "      <td>22549547.0</td>\n",
       "      <td>23369131.0</td>\n",
       "      <td>24218565.0</td>\n",
       "      <td>25096150.0</td>\n",
       "      <td>25998340.0</td>\n",
       "      <td>26920466.0</td>\n",
       "      <td>27859305.0</td>\n",
       "      <td>28813463.0</td>\n",
       "    </tr>\n",
       "    <tr>\n",
       "      <th>3</th>\n",
       "      <td>Albania</td>\n",
       "      <td>ALB</td>\n",
       "      <td>Population, total</td>\n",
       "      <td>SP.POP.TOTL</td>\n",
       "      <td>1608800.0</td>\n",
       "      <td>1659800.0</td>\n",
       "      <td>1711319.0</td>\n",
       "      <td>1762621.0</td>\n",
       "      <td>1814135.0</td>\n",
       "      <td>1864791.0</td>\n",
       "      <td>...</td>\n",
       "      <td>2970017.0</td>\n",
       "      <td>2947314.0</td>\n",
       "      <td>2927519.0</td>\n",
       "      <td>2913021.0</td>\n",
       "      <td>2905195.0</td>\n",
       "      <td>2900401.0</td>\n",
       "      <td>2895092.0</td>\n",
       "      <td>2889104.0</td>\n",
       "      <td>2880703.0</td>\n",
       "      <td>2876101.0</td>\n",
       "    </tr>\n",
       "    <tr>\n",
       "      <th>4</th>\n",
       "      <td>Andorra</td>\n",
       "      <td>AND</td>\n",
       "      <td>Population, total</td>\n",
       "      <td>SP.POP.TOTL</td>\n",
       "      <td>13411.0</td>\n",
       "      <td>14375.0</td>\n",
       "      <td>15370.0</td>\n",
       "      <td>16412.0</td>\n",
       "      <td>17469.0</td>\n",
       "      <td>18549.0</td>\n",
       "      <td>...</td>\n",
       "      <td>82683.0</td>\n",
       "      <td>83861.0</td>\n",
       "      <td>84462.0</td>\n",
       "      <td>84449.0</td>\n",
       "      <td>83751.0</td>\n",
       "      <td>82431.0</td>\n",
       "      <td>80788.0</td>\n",
       "      <td>79223.0</td>\n",
       "      <td>78014.0</td>\n",
       "      <td>77281.0</td>\n",
       "    </tr>\n",
       "  </tbody>\n",
       "</table>\n",
       "<p>5 rows × 61 columns</p>\n",
       "</div>"
      ],
      "text/plain": [
       "  Country Name Country Code     Indicator Name Indicator Code       1960  \\\n",
       "0        Aruba          ABW  Population, total    SP.POP.TOTL    54211.0   \n",
       "1  Afghanistan          AFG  Population, total    SP.POP.TOTL  8996351.0   \n",
       "2       Angola          AGO  Population, total    SP.POP.TOTL  5643182.0   \n",
       "3      Albania          ALB  Population, total    SP.POP.TOTL  1608800.0   \n",
       "4      Andorra          AND  Population, total    SP.POP.TOTL    13411.0   \n",
       "\n",
       "        1961       1962       1963       1964       1965  ...        2007  \\\n",
       "0    55438.0    56225.0    56695.0    57032.0    57360.0  ...    101220.0   \n",
       "1  9166764.0  9345868.0  9533954.0  9731361.0  9938414.0  ...  26616792.0   \n",
       "2  5753024.0  5866061.0  5980417.0  6093321.0  6203299.0  ...  20997687.0   \n",
       "3  1659800.0  1711319.0  1762621.0  1814135.0  1864791.0  ...   2970017.0   \n",
       "4    14375.0    15370.0    16412.0    17469.0    18549.0  ...     82683.0   \n",
       "\n",
       "         2008        2009        2010        2011        2012        2013  \\\n",
       "0    101353.0    101453.0    101669.0    102053.0    102577.0    103187.0   \n",
       "1  27294031.0  28004331.0  28803167.0  29708599.0  30696958.0  31731688.0   \n",
       "2  21759420.0  22549547.0  23369131.0  24218565.0  25096150.0  25998340.0   \n",
       "3   2947314.0   2927519.0   2913021.0   2905195.0   2900401.0   2895092.0   \n",
       "4     83861.0     84462.0     84449.0     83751.0     82431.0     80788.0   \n",
       "\n",
       "         2014        2015        2016  \n",
       "0    103795.0    104341.0    104822.0  \n",
       "1  32758020.0  33736494.0  34656032.0  \n",
       "2  26920466.0  27859305.0  28813463.0  \n",
       "3   2889104.0   2880703.0   2876101.0  \n",
       "4     79223.0     78014.0     77281.0  \n",
       "\n",
       "[5 rows x 61 columns]"
      ]
     },
     "execution_count": 3,
     "metadata": {},
     "output_type": "execute_result"
    }
   ],
   "source": [
    "population.head()"
   ]
  },
  {
   "cell_type": "markdown",
   "metadata": {},
   "source": [
    "# Assigning Indian and Chinese population row to variables using .loc function"
   ]
  },
  {
   "cell_type": "code",
   "execution_count": 4,
   "metadata": {},
   "outputs": [],
   "source": [
    "india = population.loc[population['Country Name'] == 'India']\n",
    "china = population.loc[population['Country Name'] == 'China']"
   ]
  },
  {
   "cell_type": "code",
   "execution_count": 5,
   "metadata": {},
   "outputs": [
    {
     "data": {
      "text/html": [
       "<div>\n",
       "<style scoped>\n",
       "    .dataframe tbody tr th:only-of-type {\n",
       "        vertical-align: middle;\n",
       "    }\n",
       "\n",
       "    .dataframe tbody tr th {\n",
       "        vertical-align: top;\n",
       "    }\n",
       "\n",
       "    .dataframe thead th {\n",
       "        text-align: right;\n",
       "    }\n",
       "</style>\n",
       "<table border=\"1\" class=\"dataframe\">\n",
       "  <thead>\n",
       "    <tr style=\"text-align: right;\">\n",
       "      <th></th>\n",
       "      <th>Country Name</th>\n",
       "      <th>Country Code</th>\n",
       "      <th>Indicator Name</th>\n",
       "      <th>Indicator Code</th>\n",
       "      <th>1960</th>\n",
       "      <th>1961</th>\n",
       "      <th>1962</th>\n",
       "      <th>1963</th>\n",
       "      <th>1964</th>\n",
       "      <th>1965</th>\n",
       "      <th>...</th>\n",
       "      <th>2007</th>\n",
       "      <th>2008</th>\n",
       "      <th>2009</th>\n",
       "      <th>2010</th>\n",
       "      <th>2011</th>\n",
       "      <th>2012</th>\n",
       "      <th>2013</th>\n",
       "      <th>2014</th>\n",
       "      <th>2015</th>\n",
       "      <th>2016</th>\n",
       "    </tr>\n",
       "  </thead>\n",
       "  <tbody>\n",
       "    <tr>\n",
       "      <th>107</th>\n",
       "      <td>India</td>\n",
       "      <td>IND</td>\n",
       "      <td>Population, total</td>\n",
       "      <td>SP.POP.TOTL</td>\n",
       "      <td>449480608.0</td>\n",
       "      <td>458494963.0</td>\n",
       "      <td>467852537.0</td>\n",
       "      <td>477527970.0</td>\n",
       "      <td>487484535.0</td>\n",
       "      <td>497702365.0</td>\n",
       "      <td>...</td>\n",
       "      <td>1.179681e+09</td>\n",
       "      <td>1.197147e+09</td>\n",
       "      <td>1.214270e+09</td>\n",
       "      <td>1.230981e+09</td>\n",
       "      <td>1.247236e+09</td>\n",
       "      <td>1.263066e+09</td>\n",
       "      <td>1.278562e+09</td>\n",
       "      <td>1.293859e+09</td>\n",
       "      <td>1.309054e+09</td>\n",
       "      <td>1.324171e+09</td>\n",
       "    </tr>\n",
       "  </tbody>\n",
       "</table>\n",
       "<p>1 rows × 61 columns</p>\n",
       "</div>"
      ],
      "text/plain": [
       "    Country Name Country Code     Indicator Name Indicator Code         1960  \\\n",
       "107        India          IND  Population, total    SP.POP.TOTL  449480608.0   \n",
       "\n",
       "            1961         1962         1963         1964         1965  ...  \\\n",
       "107  458494963.0  467852537.0  477527970.0  487484535.0  497702365.0  ...   \n",
       "\n",
       "             2007          2008          2009          2010          2011  \\\n",
       "107  1.179681e+09  1.197147e+09  1.214270e+09  1.230981e+09  1.247236e+09   \n",
       "\n",
       "             2012          2013          2014          2015          2016  \n",
       "107  1.263066e+09  1.278562e+09  1.293859e+09  1.309054e+09  1.324171e+09  \n",
       "\n",
       "[1 rows x 61 columns]"
      ]
     },
     "execution_count": 5,
     "metadata": {},
     "output_type": "execute_result"
    }
   ],
   "source": [
    "india #(This is how the variable looks like)"
   ]
  },
  {
   "cell_type": "code",
   "execution_count": 6,
   "metadata": {},
   "outputs": [
    {
     "data": {
      "image/png": "[encoded data removed]",
      "text/plain": [
       "<Figure size 432x288 with 1 Axes>"
      ]
     },
     "metadata": {
      "needs_background": "light"
     },
     "output_type": "display_data"
    }
   ],
   "source": [
    "x = range(1959, 2016) #assigning range of years to variable 'x' \n",
    "size = india.size #calculating size of row India\n",
    "y_india = india.iloc[0, 4:size] #assigning the years to y_india variable, since the years start from 4th Column 4:size is used\n",
    "y_china = china.iloc[0, 4:size]\n",
    "#plotting\n",
    "plt.plot(x, y_india) \n",
    "plt.plot(x, y_china)\n",
    "plt.xlabel('Year (1960 - 2016)')\n",
    "plt.ylabel('population (billions)')\n",
    "plt.legend(['India', 'China'])\n",
    "plt.show()"
   ]
  },
  {
   "cell_type": "markdown",
   "metadata": {},
   "source": [
    "# This is how our first graph looks like as above, showing the trend it is important how India is edging closer to China's population, it can be extrapolated that India will takeover China, in the 1960's there was a huge gap in the population, but India has sharply edged closer to China today."
   ]
  },
  {
   "cell_type": "code",
   "execution_count": 7,
   "metadata": {},
   "outputs": [
    {
     "data": {
      "image/png": "[encoded data removed]",
      "text/plain": [
       "<Figure size 432x288 with 1 Axes>"
      ]
     },
     "metadata": {
      "needs_background": "light"
     },
     "output_type": "display_data"
    }
   ],
   "source": [
    "#calculating population Growth rate and assigning it to a list \n",
    "india_growth = []\n",
    "for i in range(56):\n",
    "    india_growth.append(y_india[i + 1] - y_india[i])\n",
    "\n",
    "china_growth = []\n",
    "for i in range(56):\n",
    "    china_growth.append(y_china[i + 1] - y_china[i])\n",
    "plt.title(\"Growth Rate\")    \n",
    "plt.plot(x[1:], india_growth)\n",
    "plt.plot(x[1:], china_growth)\n",
    "plt.legend([\"India\", \"China\"])\n",
    "plt.show()\n"
   ]
  },
  {
   "cell_type": "markdown",
   "metadata": {},
   "source": [
    "# Seen above is the variation in China's growth rate whereas India's growth shows a constant rise, China has tend to limit it's population and tried to control it."
   ]
  },
  {
   "cell_type": "code",
   "execution_count": 8,
   "metadata": {},
   "outputs": [
    {
     "data": {
      "text/html": [
       "<div>\n",
       "<style scoped>\n",
       "    .dataframe tbody tr th:only-of-type {\n",
       "        vertical-align: middle;\n",
       "    }\n",
       "\n",
       "    .dataframe tbody tr th {\n",
       "        vertical-align: top;\n",
       "    }\n",
       "\n",
       "    .dataframe thead th {\n",
       "        text-align: right;\n",
       "    }\n",
       "</style>\n",
       "<table border=\"1\" class=\"dataframe\">\n",
       "  <thead>\n",
       "    <tr style=\"text-align: right;\">\n",
       "      <th></th>\n",
       "      <th>Country Name</th>\n",
       "      <th>Country Code</th>\n",
       "      <th>Indicator Name</th>\n",
       "      <th>Indicator Code</th>\n",
       "      <th>1960</th>\n",
       "      <th>1961</th>\n",
       "      <th>1962</th>\n",
       "      <th>1963</th>\n",
       "      <th>1964</th>\n",
       "      <th>1965</th>\n",
       "      <th>...</th>\n",
       "      <th>2007</th>\n",
       "      <th>2008</th>\n",
       "      <th>2009</th>\n",
       "      <th>2010</th>\n",
       "      <th>2011</th>\n",
       "      <th>2012</th>\n",
       "      <th>2013</th>\n",
       "      <th>2014</th>\n",
       "      <th>2015</th>\n",
       "      <th>2016</th>\n",
       "    </tr>\n",
       "  </thead>\n",
       "  <tbody>\n",
       "    <tr>\n",
       "      <th>0</th>\n",
       "      <td>Aruba</td>\n",
       "      <td>ABW</td>\n",
       "      <td>Fertility rate, total (births per woman)</td>\n",
       "      <td>SP.DYN.TFRT.IN</td>\n",
       "      <td>4.820</td>\n",
       "      <td>4.655</td>\n",
       "      <td>4.471</td>\n",
       "      <td>4.271</td>\n",
       "      <td>4.059</td>\n",
       "      <td>3.842</td>\n",
       "      <td>...</td>\n",
       "      <td>1.763</td>\n",
       "      <td>1.764</td>\n",
       "      <td>1.769</td>\n",
       "      <td>1.776</td>\n",
       "      <td>1.783</td>\n",
       "      <td>1.791</td>\n",
       "      <td>1.796</td>\n",
       "      <td>1.800</td>\n",
       "      <td>1.801</td>\n",
       "      <td>1.800</td>\n",
       "    </tr>\n",
       "    <tr>\n",
       "      <th>1</th>\n",
       "      <td>Afghanistan</td>\n",
       "      <td>AFG</td>\n",
       "      <td>Fertility rate, total (births per woman)</td>\n",
       "      <td>SP.DYN.TFRT.IN</td>\n",
       "      <td>7.450</td>\n",
       "      <td>7.450</td>\n",
       "      <td>7.450</td>\n",
       "      <td>7.450</td>\n",
       "      <td>7.450</td>\n",
       "      <td>7.450</td>\n",
       "      <td>...</td>\n",
       "      <td>6.460</td>\n",
       "      <td>6.254</td>\n",
       "      <td>6.038</td>\n",
       "      <td>5.816</td>\n",
       "      <td>5.595</td>\n",
       "      <td>5.380</td>\n",
       "      <td>5.174</td>\n",
       "      <td>4.981</td>\n",
       "      <td>4.802</td>\n",
       "      <td>4.635</td>\n",
       "    </tr>\n",
       "    <tr>\n",
       "      <th>2</th>\n",
       "      <td>Angola</td>\n",
       "      <td>AGO</td>\n",
       "      <td>Fertility rate, total (births per woman)</td>\n",
       "      <td>SP.DYN.TFRT.IN</td>\n",
       "      <td>7.478</td>\n",
       "      <td>7.524</td>\n",
       "      <td>7.563</td>\n",
       "      <td>7.592</td>\n",
       "      <td>7.611</td>\n",
       "      <td>7.619</td>\n",
       "      <td>...</td>\n",
       "      <td>6.368</td>\n",
       "      <td>6.307</td>\n",
       "      <td>6.238</td>\n",
       "      <td>6.162</td>\n",
       "      <td>6.082</td>\n",
       "      <td>6.000</td>\n",
       "      <td>5.920</td>\n",
       "      <td>5.841</td>\n",
       "      <td>5.766</td>\n",
       "      <td>5.694</td>\n",
       "    </tr>\n",
       "    <tr>\n",
       "      <th>3</th>\n",
       "      <td>Albania</td>\n",
       "      <td>ALB</td>\n",
       "      <td>Fertility rate, total (births per woman)</td>\n",
       "      <td>SP.DYN.TFRT.IN</td>\n",
       "      <td>6.489</td>\n",
       "      <td>6.401</td>\n",
       "      <td>6.282</td>\n",
       "      <td>6.133</td>\n",
       "      <td>5.960</td>\n",
       "      <td>5.773</td>\n",
       "      <td>...</td>\n",
       "      <td>1.668</td>\n",
       "      <td>1.650</td>\n",
       "      <td>1.646</td>\n",
       "      <td>1.653</td>\n",
       "      <td>1.668</td>\n",
       "      <td>1.685</td>\n",
       "      <td>1.700</td>\n",
       "      <td>1.710</td>\n",
       "      <td>1.714</td>\n",
       "      <td>1.713</td>\n",
       "    </tr>\n",
       "    <tr>\n",
       "      <th>4</th>\n",
       "      <td>Andorra</td>\n",
       "      <td>AND</td>\n",
       "      <td>Fertility rate, total (births per woman)</td>\n",
       "      <td>SP.DYN.TFRT.IN</td>\n",
       "      <td>NaN</td>\n",
       "      <td>NaN</td>\n",
       "      <td>NaN</td>\n",
       "      <td>NaN</td>\n",
       "      <td>NaN</td>\n",
       "      <td>NaN</td>\n",
       "      <td>...</td>\n",
       "      <td>1.180</td>\n",
       "      <td>1.250</td>\n",
       "      <td>1.190</td>\n",
       "      <td>1.270</td>\n",
       "      <td>NaN</td>\n",
       "      <td>NaN</td>\n",
       "      <td>NaN</td>\n",
       "      <td>NaN</td>\n",
       "      <td>NaN</td>\n",
       "      <td>NaN</td>\n",
       "    </tr>\n",
       "  </tbody>\n",
       "</table>\n",
       "<p>5 rows × 61 columns</p>\n",
       "</div>"
      ],
      "text/plain": [
       "  Country Name Country Code                            Indicator Name  \\\n",
       "0        Aruba          ABW  Fertility rate, total (births per woman)   \n",
       "1  Afghanistan          AFG  Fertility rate, total (births per woman)   \n",
       "2       Angola          AGO  Fertility rate, total (births per woman)   \n",
       "3      Albania          ALB  Fertility rate, total (births per woman)   \n",
       "4      Andorra          AND  Fertility rate, total (births per woman)   \n",
       "\n",
       "   Indicator Code   1960   1961   1962   1963   1964   1965  ...   2007  \\\n",
       "0  SP.DYN.TFRT.IN  4.820  4.655  4.471  4.271  4.059  3.842  ...  1.763   \n",
       "1  SP.DYN.TFRT.IN  7.450  7.450  7.450  7.450  7.450  7.450  ...  6.460   \n",
       "2  SP.DYN.TFRT.IN  7.478  7.524  7.563  7.592  7.611  7.619  ...  6.368   \n",
       "3  SP.DYN.TFRT.IN  6.489  6.401  6.282  6.133  5.960  5.773  ...  1.668   \n",
       "4  SP.DYN.TFRT.IN    NaN    NaN    NaN    NaN    NaN    NaN  ...  1.180   \n",
       "\n",
       "    2008   2009   2010   2011   2012   2013   2014   2015   2016  \n",
       "0  1.764  1.769  1.776  1.783  1.791  1.796  1.800  1.801  1.800  \n",
       "1  6.254  6.038  5.816  5.595  5.380  5.174  4.981  4.802  4.635  \n",
       "2  6.307  6.238  6.162  6.082  6.000  5.920  5.841  5.766  5.694  \n",
       "3  1.650  1.646  1.653  1.668  1.685  1.700  1.710  1.714  1.713  \n",
       "4  1.250  1.190  1.270    NaN    NaN    NaN    NaN    NaN    NaN  \n",
       "\n",
       "[5 rows x 61 columns]"
      ]
     },
     "execution_count": 8,
     "metadata": {},
     "output_type": "execute_result"
    }
   ],
   "source": [
    "fertility_rate.head()"
   ]
  },
  {
   "cell_type": "code",
   "execution_count": 9,
   "metadata": {},
   "outputs": [],
   "source": [
    "# fertility rate of china\n",
    "china_fer = fertility_rate.loc[fertility_rate['Country Name'] == \"China\"].iloc[0, 4:size]\n",
    "# fertility rate of India\n",
    "india_fer = fertility_rate.loc[fertility_rate['Country Name'] == \"India\"].iloc[0, 4:size]"
   ]
  },
  {
   "cell_type": "code",
   "execution_count": 10,
   "metadata": {},
   "outputs": [
    {
     "data": {
      "image/png": "[encoded data removed]",
      "text/plain": [
       "<Figure size 432x288 with 1 Axes>"
      ]
     },
     "metadata": {
      "needs_background": "light"
     },
     "output_type": "display_data"
    }
   ],
   "source": [
    "# comparing fertility rate of both countries\n",
    "plt.plot(x, india_fer)\n",
    "plt.plot(x, china_fer)\n",
    "plt.xlabel('Year (1960 - 2016)')\n",
    "plt.ylabel('child per woman')\n",
    "plt.legend(['India', 'China'])\n",
    "plt.show()"
   ]
  },
  {
   "cell_type": "markdown",
   "metadata": {},
   "source": [
    "# Child per woman in the 60's shoots up for China, whereas for India it's constantly declining, in 70's and 90's there's a sharp downfall, owing to the fact of government policies, currently(2016 data) the stats stands for 1 child per woman in China and 2.5 for India"
   ]
  },
  {
   "cell_type": "code",
   "execution_count": 11,
   "metadata": {},
   "outputs": [
    {
     "data": {
      "image/png": "[encoded data removed]",
      "text/plain": [
       "<Figure size 432x288 with 1 Axes>"
      ]
     },
     "metadata": {
      "needs_background": "light"
     },
     "output_type": "display_data"
    }
   ],
   "source": [
    "# comparing population density of both countries\n",
    "china_area = 9326410.0\n",
    "india_area = 2973193.0\n",
    "plt.plot(x, y_india/india_area)\n",
    "plt.plot(x, y_china/china_area)\n",
    "plt.xlabel('Year (1960 - 2016)')\n",
    "plt.ylabel('population density (people per sq. km.)')\n",
    "plt.legend(['India', 'China'])\n",
    "plt.show()"
   ]
  },
  {
   "cell_type": "markdown",
   "metadata": {},
   "source": [
    "# The population density for India is far high which has led to many problems, the Chennai water crisis being the most prominent one."
   ]
  },
  {
   "cell_type": "code",
   "execution_count": 12,
   "metadata": {},
   "outputs": [
    {
     "data": {
      "text/html": [
       "<div>\n",
       "<style scoped>\n",
       "    .dataframe tbody tr th:only-of-type {\n",
       "        vertical-align: middle;\n",
       "    }\n",
       "\n",
       "    .dataframe tbody tr th {\n",
       "        vertical-align: top;\n",
       "    }\n",
       "\n",
       "    .dataframe thead th {\n",
       "        text-align: right;\n",
       "    }\n",
       "</style>\n",
       "<table border=\"1\" class=\"dataframe\">\n",
       "  <thead>\n",
       "    <tr style=\"text-align: right;\">\n",
       "      <th></th>\n",
       "      <th>Country Name</th>\n",
       "      <th>Country Code</th>\n",
       "      <th>Indicator Name</th>\n",
       "      <th>Indicator Code</th>\n",
       "      <th>1960</th>\n",
       "      <th>1961</th>\n",
       "      <th>1962</th>\n",
       "      <th>1963</th>\n",
       "      <th>1964</th>\n",
       "      <th>1965</th>\n",
       "      <th>...</th>\n",
       "      <th>2009</th>\n",
       "      <th>2010</th>\n",
       "      <th>2011</th>\n",
       "      <th>2012</th>\n",
       "      <th>2013</th>\n",
       "      <th>2014</th>\n",
       "      <th>2015</th>\n",
       "      <th>2016</th>\n",
       "      <th>2017</th>\n",
       "      <th>2018</th>\n",
       "    </tr>\n",
       "  </thead>\n",
       "  <tbody>\n",
       "    <tr>\n",
       "      <th>0</th>\n",
       "      <td>Aruba</td>\n",
       "      <td>ABW</td>\n",
       "      <td>GDP (current US$)</td>\n",
       "      <td>NY.GDP.MKTP.CD</td>\n",
       "      <td>NaN</td>\n",
       "      <td>NaN</td>\n",
       "      <td>NaN</td>\n",
       "      <td>NaN</td>\n",
       "      <td>NaN</td>\n",
       "      <td>NaN</td>\n",
       "      <td>...</td>\n",
       "      <td>2.498883e+09</td>\n",
       "      <td>2.390503e+09</td>\n",
       "      <td>2.549721e+09</td>\n",
       "      <td>2.534637e+09</td>\n",
       "      <td>2.581564e+09</td>\n",
       "      <td>2.649721e+09</td>\n",
       "      <td>2.691620e+09</td>\n",
       "      <td>2.646927e+09</td>\n",
       "      <td>2.700559e+09</td>\n",
       "      <td>NaN</td>\n",
       "    </tr>\n",
       "    <tr>\n",
       "      <th>1</th>\n",
       "      <td>Afghanistan</td>\n",
       "      <td>AFG</td>\n",
       "      <td>GDP (current US$)</td>\n",
       "      <td>NY.GDP.MKTP.CD</td>\n",
       "      <td>537777811.1</td>\n",
       "      <td>548888895.6</td>\n",
       "      <td>546666677.8</td>\n",
       "      <td>751111191.1</td>\n",
       "      <td>800000044.4</td>\n",
       "      <td>1.006667e+09</td>\n",
       "      <td>...</td>\n",
       "      <td>1.243909e+10</td>\n",
       "      <td>1.585657e+10</td>\n",
       "      <td>1.780429e+10</td>\n",
       "      <td>1.990732e+10</td>\n",
       "      <td>2.056107e+10</td>\n",
       "      <td>2.048489e+10</td>\n",
       "      <td>1.990711e+10</td>\n",
       "      <td>1.904636e+10</td>\n",
       "      <td>1.954398e+10</td>\n",
       "      <td>NaN</td>\n",
       "    </tr>\n",
       "    <tr>\n",
       "      <th>2</th>\n",
       "      <td>Angola</td>\n",
       "      <td>AGO</td>\n",
       "      <td>GDP (current US$)</td>\n",
       "      <td>NY.GDP.MKTP.CD</td>\n",
       "      <td>NaN</td>\n",
       "      <td>NaN</td>\n",
       "      <td>NaN</td>\n",
       "      <td>NaN</td>\n",
       "      <td>NaN</td>\n",
       "      <td>NaN</td>\n",
       "      <td>...</td>\n",
       "      <td>7.030716e+10</td>\n",
       "      <td>8.379950e+10</td>\n",
       "      <td>1.120000e+11</td>\n",
       "      <td>1.280000e+11</td>\n",
       "      <td>1.370000e+11</td>\n",
       "      <td>1.460000e+11</td>\n",
       "      <td>1.160000e+11</td>\n",
       "      <td>1.010000e+11</td>\n",
       "      <td>1.220000e+11</td>\n",
       "      <td>NaN</td>\n",
       "    </tr>\n",
       "    <tr>\n",
       "      <th>3</th>\n",
       "      <td>Albania</td>\n",
       "      <td>ALB</td>\n",
       "      <td>GDP (current US$)</td>\n",
       "      <td>NY.GDP.MKTP.CD</td>\n",
       "      <td>NaN</td>\n",
       "      <td>NaN</td>\n",
       "      <td>NaN</td>\n",
       "      <td>NaN</td>\n",
       "      <td>NaN</td>\n",
       "      <td>NaN</td>\n",
       "      <td>...</td>\n",
       "      <td>1.204421e+10</td>\n",
       "      <td>1.192696e+10</td>\n",
       "      <td>1.289087e+10</td>\n",
       "      <td>1.231978e+10</td>\n",
       "      <td>1.277628e+10</td>\n",
       "      <td>1.322825e+10</td>\n",
       "      <td>1.138693e+10</td>\n",
       "      <td>1.188368e+10</td>\n",
       "      <td>1.303854e+10</td>\n",
       "      <td>NaN</td>\n",
       "    </tr>\n",
       "    <tr>\n",
       "      <th>4</th>\n",
       "      <td>Andorra</td>\n",
       "      <td>AND</td>\n",
       "      <td>GDP (current US$)</td>\n",
       "      <td>NY.GDP.MKTP.CD</td>\n",
       "      <td>NaN</td>\n",
       "      <td>NaN</td>\n",
       "      <td>NaN</td>\n",
       "      <td>NaN</td>\n",
       "      <td>NaN</td>\n",
       "      <td>NaN</td>\n",
       "      <td>...</td>\n",
       "      <td>3.660531e+09</td>\n",
       "      <td>3.355695e+09</td>\n",
       "      <td>3.442063e+09</td>\n",
       "      <td>3.164615e+09</td>\n",
       "      <td>3.281585e+09</td>\n",
       "      <td>3.350736e+09</td>\n",
       "      <td>2.811489e+09</td>\n",
       "      <td>2.877312e+09</td>\n",
       "      <td>3.012914e+09</td>\n",
       "      <td>NaN</td>\n",
       "    </tr>\n",
       "  </tbody>\n",
       "</table>\n",
       "<p>5 rows × 63 columns</p>\n",
       "</div>"
      ],
      "text/plain": [
       "  Country Name Country Code     Indicator Name  Indicator Code         1960  \\\n",
       "0        Aruba          ABW  GDP (current US$)  NY.GDP.MKTP.CD          NaN   \n",
       "1  Afghanistan          AFG  GDP (current US$)  NY.GDP.MKTP.CD  537777811.1   \n",
       "2       Angola          AGO  GDP (current US$)  NY.GDP.MKTP.CD          NaN   \n",
       "3      Albania          ALB  GDP (current US$)  NY.GDP.MKTP.CD          NaN   \n",
       "4      Andorra          AND  GDP (current US$)  NY.GDP.MKTP.CD          NaN   \n",
       "\n",
       "          1961         1962         1963         1964          1965  ...  \\\n",
       "0          NaN          NaN          NaN          NaN           NaN  ...   \n",
       "1  548888895.6  546666677.8  751111191.1  800000044.4  1.006667e+09  ...   \n",
       "2          NaN          NaN          NaN          NaN           NaN  ...   \n",
       "3          NaN          NaN          NaN          NaN           NaN  ...   \n",
       "4          NaN          NaN          NaN          NaN           NaN  ...   \n",
       "\n",
       "           2009          2010          2011          2012          2013  \\\n",
       "0  2.498883e+09  2.390503e+09  2.549721e+09  2.534637e+09  2.581564e+09   \n",
       "1  1.243909e+10  1.585657e+10  1.780429e+10  1.990732e+10  2.056107e+10   \n",
       "2  7.030716e+10  8.379950e+10  1.120000e+11  1.280000e+11  1.370000e+11   \n",
       "3  1.204421e+10  1.192696e+10  1.289087e+10  1.231978e+10  1.277628e+10   \n",
       "4  3.660531e+09  3.355695e+09  3.442063e+09  3.164615e+09  3.281585e+09   \n",
       "\n",
       "           2014          2015          2016          2017  2018  \n",
       "0  2.649721e+09  2.691620e+09  2.646927e+09  2.700559e+09   NaN  \n",
       "1  2.048489e+10  1.990711e+10  1.904636e+10  1.954398e+10   NaN  \n",
       "2  1.460000e+11  1.160000e+11  1.010000e+11  1.220000e+11   NaN  \n",
       "3  1.322825e+10  1.138693e+10  1.188368e+10  1.303854e+10   NaN  \n",
       "4  3.350736e+09  2.811489e+09  2.877312e+09  3.012914e+09   NaN  \n",
       "\n",
       "[5 rows x 63 columns]"
      ]
     },
     "execution_count": 12,
     "metadata": {},
     "output_type": "execute_result"
    }
   ],
   "source": [
    "currentgdp.head()"
   ]
  },
  {
   "cell_type": "code",
   "execution_count": 13,
   "metadata": {},
   "outputs": [],
   "source": [
    "india_gdp = currentgdp.loc[currentgdp['Country Name'] == 'India']\n",
    "china_gdp = currentgdp.loc[currentgdp['Country Name'] == 'China']"
   ]
  },
  {
   "cell_type": "code",
   "execution_count": 14,
   "metadata": {},
   "outputs": [
    {
     "data": {
      "image/png": "[encoded data removed]",
      "text/plain": [
       "<Figure size 432x288 with 1 Axes>"
      ]
     },
     "metadata": {
      "needs_background": "light"
     },
     "output_type": "display_data"
    }
   ],
   "source": [
    "# comparing GDP of both countries\n",
    "x = range(1959, 2018)\n",
    "size = india_gdp.size\n",
    "y_gdp_india = india_gdp.iloc[0, 4:size]\n",
    "y_gdp_china = china_gdp.iloc[0, 4:size]\n",
    "plt.plot(x, y_gdp_india)\n",
    "plt.plot(x, y_gdp_china)\n",
    "plt.xlabel('Year (1960 - 2018)')\n",
    "plt.ylabel('GDP (current US$) in ten trillions')\n",
    "plt.legend(['India', 'China'])\n",
    "plt.show()"
   ]
  },
  {
   "cell_type": "markdown",
   "metadata": {},
   "source": [
    "### The GDP trends weren't far different until 90's, but due to FDI in China, the trends changed and led to China becoming a major trade economy whereas India is still trying to attract FDI, at a major scale, the Chinese government has tried to invest and use human labour, investment, and resources in the most best way possible, though at some major/minor violations of human rights, India seems to suffer, it is expected that the government utilises the youth force of India systematically, rather than the best youths being lured away to world powers, India, needs to employ many ways, to change itself and give a tight competition to China, it would take time but India needs to do it. "
   ]
  },
  {
   "cell_type": "code",
   "execution_count": 17,
   "metadata": {},
   "outputs": [
    {
     "data": {
      "image/png": "[encoded data removed]",
      "text/plain": [
       "<Figure size 432x288 with 1 Axes>"
      ]
     },
     "metadata": {
      "needs_background": "light"
     },
     "output_type": "display_data"
    }
   ],
   "source": [
    "# comparing GDP per capita of both countries by using GDP and population data \n",
    "x = range(1962, 2018)\n",
    "india_growth_gdp = []\n",
    "for i in range(56):\n",
    "    india_growth_gdp.append(y_gdp_india[i]/y_india[i])\n",
    "\n",
    "china_growth_gdp = []\n",
    "for i in range(56):\n",
    "    china_growth_gdp.append(y_gdp_china[i]/y_china[i])\n",
    "plt.title(\"GDP per capita\") \n",
    "plt.xlabel('Year (1960 - 2018)')\n",
    "plt.ylabel('GDP per person ($)')\n",
    "plt.plot(x, india_growth_gdp)\n",
    "plt.plot(x, china_growth_gdp)\n",
    "plt.legend([\"India\", \"China\"])\n",
    "plt.show()"
   ]
  },
  {
   "cell_type": "markdown",
   "metadata": {},
   "source": [
    "### GDP per capita is again due to better GDP and great production, India faces extreme financial gap between the rich and poor, leading to poor GDP per capita, the reason for China showing higher values, lies to the fact that Chinese as a whole are dedicated towards their work, the reason being proper wages and meeting the international minimum wage criteria, India lacks this and hence the result - corruption, until India distributes it's wealth deservingly, tries to lift up the poor economic section of society and India allocates proper wages to it's farmers and workers, resulting in boost of morale and greater productivity, leading to a better economy."
   ]
  },
  {
   "cell_type": "code",
   "execution_count": 18,
   "metadata": {},
   "outputs": [],
   "source": [
    "india_gni = gnipercapita.loc[gnipercapita['Country Name'] == 'India']\n",
    "china_gni = gnipercapita.loc[gnipercapita['Country Name'] == 'China']"
   ]
  },
  {
   "cell_type": "code",
   "execution_count": 19,
   "metadata": {},
   "outputs": [
    {
     "data": {
      "image/png": "[encoded data removed]",
      "text/plain": [
       "<Figure size 432x288 with 1 Axes>"
      ]
     },
     "metadata": {
      "needs_background": "light"
     },
     "output_type": "display_data"
    }
   ],
   "source": [
    "# comparing GNI of both countries\n",
    "x = range(1959, 2018)\n",
    "size = india_gni.size\n",
    "y_india_gni = india_gni.iloc[0, 4:size]\n",
    "y_china_gni = china_gni.iloc[0, 4:size]\n",
    "plt.plot(x, y_india_gni)\n",
    "plt.plot(x, y_china_gni)\n",
    "plt.xlabel('Year (1960 - 2018)')\n",
    "plt.ylabel('GNI per capita, (current US$)')\n",
    "plt.legend(['India', 'China'])\n",
    "plt.show()"
   ]
  },
  {
   "cell_type": "markdown",
   "metadata": {},
   "source": [
    "# GNI data shows, the Chinese are better at handling businesses and filling their pockets outside mainland China, India is doing fairly well after 2000's owing to the fact that many Indians are CEO's of multinational companies, including Google\n",
    "###### GNI is a measurement of a country's income. It includes all the income earned by a country's residents and businesses, including any income earned abroad."
   ]
  },
  {
   "cell_type": "code",
   "execution_count": 20,
   "metadata": {},
   "outputs": [],
   "source": [
    "india_uem = uem.loc[uem['Country Name'] == 'India']\n",
    "china_uem = uem.loc[uem['Country Name'] == 'China']"
   ]
  },
  {
   "cell_type": "code",
   "execution_count": 21,
   "metadata": {},
   "outputs": [
    {
     "data": {
      "image/png": "[encoded data removed]",
      "text/plain": [
       "<Figure size 432x288 with 1 Axes>"
      ]
     },
     "metadata": {
      "needs_background": "light"
     },
     "output_type": "display_data"
    }
   ],
   "source": [
    "x = range(1990, 2018)\n",
    "size = india_uem.size\n",
    "y_india_uem = india_uem.iloc[0, 35:size]\n",
    "y_china_uem = china_uem.iloc[0, 35:size]\n",
    "plt.plot(x, y_india_uem)\n",
    "plt.plot(x, y_china_uem)\n",
    "plt.xlabel('Year (1960 - 2018)')\n",
    "plt.ylabel('Unemployment, total(% of total labor force)')\n",
    "plt.legend(['India', 'China'])\n",
    "plt.show()"
   ]
  },
  {
   "cell_type": "markdown",
   "metadata": {},
   "source": [
    "## Unemployment has sharply risen in the previous years for India, owing to the fact of addition of enormous youth in the labour force and inability to create jobs leading to less demand and high supply, the previous policies of government has created a chaos especially demonetisation and implementation of additional taxes, which threw people jobless, mainly due to inability of organisations to pay them. Which has led to sharp increement in joblessness, especially among the youth which is a major problem government has to tackle.\n",
    "## China on the other hand seems to fair pretty well, it's trying to reduce unemployment through various measures."
   ]
  },
  {
   "cell_type": "markdown",
   "metadata": {},
   "source": [
    "###### The data for unemployment in India had many disputed figures, I tried to gather information from various national surveys conducted in the nation, some of them are Azim Premji University, NDTV. The International Labour Force data wasn't accurate in this field, the government hasn't officially released reports since 2016, according to Wikipedia (https://en.m.wikipedia.org/wiki/Unemployment_in_India ), CMIE an NGO has some data which has been used in the above reports (https://unemploymentinindia.cmie.com)"
   ]
  },
  {
   "cell_type": "code",
   "execution_count": 15,
   "metadata": {},
   "outputs": [],
   "source": [
    "size = america_gdp.size\n",
    "america_gdp = currentgdp.loc[currentgdp['Country Name'] == 'United States']\n",
    "china_gdp = currentgdp.loc[currentgdp['Country Name'] == 'China']\n",
    "rus_gdp = currentgdp.loc[currentgdp['Country Name'] == 'Russian Federation']\n",
    "y_gdp_america = america_gdp.iloc[0, 4:size]\n",
    "y_gdp_china = china_gdp.iloc[0, 4:size]\n",
    "y_gdp_rus = rus_gdp.iloc[0, 4:size]\n",
    "america = population.loc[population['Country Name'] == 'United States']\n",
    "china = population.loc[population['Country Name'] == 'China']\n",
    "rus = population.loc[population['Country Name'] == 'Russian Federation']\n",
    "y_america = america.iloc[0, 4:size]\n",
    "y_china = china.iloc[0, 4:size]\n",
    "y_rus = rus.iloc[0, 4:size]\n",
    "x = range(1961, 2018)"
   ]
  },
  {
   "cell_type": "code",
   "execution_count": 17,
   "metadata": {},
   "outputs": [
    {
     "data": {
      "image/png": "[encoded data removed]",
      "text/plain": [
       "<Figure size 432x288 with 1 Axes>"
      ]
     },
     "metadata": {
      "needs_background": "light"
     },
     "output_type": "display_data"
    }
   ],
   "source": [
    "america_growth = []\n",
    "for i in range(56):\n",
    "    america_growth.append(y_gdp_america[i]/y_america[i])\n",
    "rus_growth = []\n",
    "for i in range(56):\n",
    "    rus_growth.append(y_gdp_rus[i]/y_rus[i])\n",
    "china_growth = []\n",
    "for i in range(56):\n",
    "    china_growth.append(y_gdp_china[i]/y_china[i])\n",
    "plt.title(\"GDP per Capita\")    \n",
    "plt.plot(x[1:], america_growth)\n",
    "plt.plot(x[1:], china_growth)\n",
    "plt.plot(x[1:], rus_growth)\n",
    "plt.legend([\"US\", \"China\",\"Russian Federation\"])\n",
    "plt.show()"
   ]
  }
 ],
 "metadata": {
  "kernelspec": {
   "display_name": "Python 3",
   "language": "python",
   "name": "python3"
  },
  "language_info": {
   "codemirror_mode": {
    "name": "ipython",
    "version": 3
   },
   "file_extension": ".py",
   "mimetype": "text/x-python",
   "name": "python",
   "nbconvert_exporter": "python",
   "pygments_lexer": "ipython3",
   "version": "3.7.7"
  }
 },
 "nbformat": 4,
 "nbformat_minor": 2
}
